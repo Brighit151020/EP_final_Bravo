{
 "cells": [
  {
   "cell_type": "code",
   "execution_count": 1,
   "id": "d626a751",
   "metadata": {},
   "outputs": [
    {
     "name": "stdout",
     "output_type": "stream",
     "text": [
      "Ingrese el tipo de bus (1, 2, 3): 1\n",
      "Ingrese la distancia del viaje en kilómetros: 24\n",
      "Ingrese la cantidad de personas: 15\n",
      "El importe a pagar por persona es: 48.0\n",
      "El costo total del viaje es: 720.0\n"
     ]
    }
   ],
   "source": [
    "def calcular_costo_viaje(bus_tipo, distancia, cantidad_personas):\n",
    "    precios = {1: 2, 2: 2.5, 3: 3}\n",
    "    max_personas = {1: 20, 2: 25, 3: 30}\n",
    "    \n",
    "    if cantidad_personas > max_personas[bus_tipo]:\n",
    "        return \"Cantidad no permitida\"\n",
    "    \n",
    "    costo_por_persona = precios[bus_tipo]*distancia\n",
    "    costo_total = precios[bus_tipo] * distancia * cantidad_personas\n",
    "    \n",
    "    return costo_por_persona, costo_total\n",
    "\n",
    "# Ejemplo de uso\n",
    "tipo_bus = int(input(\"Ingrese el tipo de bus (1, 2, 3): \"))\n",
    "distancia_viaje = float(input(\"Ingrese la distancia del viaje en kilómetros: \"))\n",
    "cantidad_personas = int(input(\"Ingrese la cantidad de personas: \"))\n",
    "\n",
    "if cantidad_personas > 30:\n",
    "    print(\"Cantidad no permitida\")\n",
    "else:\n",
    "    costo_persona, costo_total_viaje = calcular_costo_viaje(tipo_bus, distancia_viaje, cantidad_personas)\n",
    "    print(\"El importe a pagar por persona es:\", costo_persona)\n",
    "    print(\"El costo total del viaje es:\", costo_total_viaje)"
   ]
  },
  {
   "cell_type": "code",
   "execution_count": 2,
   "id": "2d5fa1a9",
   "metadata": {},
   "outputs": [
    {
     "name": "stdout",
     "output_type": "stream",
     "text": [
      "Ingrese el tipo de bus (1, 2, 3): 3\n",
      "Ingrese la distancia del viaje en kilómetros: 15\n",
      "Ingrese la cantidad de personas: 31\n",
      "Cantidad no permitida\n"
     ]
    }
   ],
   "source": [
    "def calcular_costo_viaje(bus_tipo, distancia, cantidad_personas):\n",
    "    precios = {1: 2, 2: 2.5, 3: 3}\n",
    "    max_personas = {1: 20, 2: 25, 3: 30}\n",
    "    \n",
    "    if cantidad_personas > max_personas[bus_tipo]:\n",
    "        return \"Cantidad no permitida\"\n",
    "    \n",
    "    costo_por_persona = precios[bus_tipo]*distancia\n",
    "    costo_total = precios[bus_tipo] * distancia * cantidad_personas\n",
    "    \n",
    "    return costo_por_persona, costo_total\n",
    "\n",
    "# Ejemplo de uso\n",
    "tipo_bus = int(input(\"Ingrese el tipo de bus (1, 2, 3): \"))\n",
    "distancia_viaje = float(input(\"Ingrese la distancia del viaje en kilómetros: \"))\n",
    "cantidad_personas = int(input(\"Ingrese la cantidad de personas: \"))\n",
    "\n",
    "if cantidad_personas > 30:\n",
    "    print(\"Cantidad no permitida\")\n",
    "else:\n",
    "    costo_persona, costo_total_viaje = calcular_costo_viaje(tipo_bus, distancia_viaje, cantidad_personas)\n",
    "    print(\"El importe a pagar por persona es:\", costo_persona)\n",
    "    print(\"El costo total del viaje es:\", costo_total_viaje)"
   ]
  },
  {
   "cell_type": "code",
   "execution_count": null,
   "id": "0c6c3056",
   "metadata": {},
   "outputs": [],
   "source": []
  }
 ],
 "metadata": {
  "kernelspec": {
   "display_name": "Python 3 (ipykernel)",
   "language": "python",
   "name": "python3"
  },
  "language_info": {
   "codemirror_mode": {
    "name": "ipython",
    "version": 3
   },
   "file_extension": ".py",
   "mimetype": "text/x-python",
   "name": "python",
   "nbconvert_exporter": "python",
   "pygments_lexer": "ipython3",
   "version": "3.9.12"
  }
 },
 "nbformat": 4,
 "nbformat_minor": 5
}

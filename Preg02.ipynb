{
 "cells": [
  {
   "cell_type": "markdown",
   "id": "9f385b33",
   "metadata": {},
   "source": [
    "# Preg02"
   ]
  },
  {
   "cell_type": "code",
   "execution_count": 2,
   "id": "328632cc",
   "metadata": {
    "scrolled": true
   },
   "outputs": [
    {
     "name": "stdout",
     "output_type": "stream",
     "text": [
      "Datos de entrada\n",
      "NumeroA: 50\n",
      "NumeroB: 20\n",
      "NumeroC: 35\n",
      "20\n",
      "35\n",
      "50\n"
     ]
    }
   ],
   "source": [
    "\n",
    "      \n",
    "        print(\"Datos de entrada\")\n",
    "        numero1= int(input(\"NumeroA: \"))\n",
    "        numero2= int(input(\"NumeroB: \"))\n",
    "        numero3= int(input(\"NumeroC: \"))\n",
    "\n",
    "        if numero1 > numero2:\n",
    "            if numero2>numero3:\n",
    "                print(\"Datos de salida\\n\")\n",
    "                print(numero3)\n",
    "                print(numero2)\n",
    "                print(numero1)\n",
    "            elif numero1>numero3:\n",
    "                print(numero2)\n",
    "                print(numero3)\n",
    "                print(numero1)\n",
    "            else:\n",
    "                print(numero2)\n",
    "                print(numero1)\n",
    "                print(numero3)\n",
    "        else:\n",
    "            if numero1>numero3:\n",
    "                print(numero1)\n",
    "                print(numero2)\n",
    "                \n",
    "\n",
    "            elif numero2>numero3:\n",
    "                print(numero1)  \n",
    "                print(numero3)\n",
    "                print(numero2)\n",
    "            else:\n",
    "                print(numero1)\n",
    "                print(numero2)\n",
    "                print(numero3)\n",
    "        exit()                    \n",
    "    "
   ]
  },
  {
   "cell_type": "code",
   "execution_count": 1,
   "id": "37a3026f",
   "metadata": {},
   "outputs": [
    {
     "name": "stdout",
     "output_type": "stream",
     "text": [
      "Datos de entrada\n",
      "NumeroA: 20\n",
      "NumeroB: 20\n",
      "NumeroC: 80\n",
      "20\n",
      "20\n",
      "80\n"
     ]
    }
   ],
   "source": [
    "\n",
    "      \n",
    "        print(\"Datos de entrada\")\n",
    "        numero1= int(input(\"NumeroA: \"))\n",
    "        numero2= int(input(\"NumeroB: \"))\n",
    "        numero3= int(input(\"NumeroC: \"))\n",
    "\n",
    "        #Hacemos todas las comparaciones posibles entre los 3 números\n",
    "        if numero1 > numero2:\n",
    "            if numero2>numero3:\n",
    "                print(\"Datos de salida\\n\")\n",
    "                print(numero3)\n",
    "                print(numero2)\n",
    "                print(numero1)\n",
    "            elif numero1>numero3:\n",
    "                print(numero2)\n",
    "                print(numero3)\n",
    "                print(numero1)\n",
    "            else:\n",
    "                print(numero2)\n",
    "                print(numero1)\n",
    "                print(numero3)\n",
    "        else:\n",
    "            if numero1>numero3:\n",
    "                print(numero1)\n",
    "                print(numero2)\n",
    "                \n",
    "\n",
    "            elif numero2>numero3:\n",
    "                print(numero1)  \n",
    "                print(numero3)\n",
    "                print(numero2)\n",
    "            else:\n",
    "                print(numero1)\n",
    "                print(numero2)\n",
    "                print(numero3)\n",
    "        exit() "
   ]
  },
  {
   "cell_type": "code",
   "execution_count": 1,
   "id": "ab8e1d66",
   "metadata": {},
   "outputs": [
    {
     "name": "stdout",
     "output_type": "stream",
     "text": [
      "Datos de entrada\n",
      "NumeroA: 50\n",
      "NumeroB: 25\n",
      "NumeroC: 50\n",
      "25\n",
      "50\n",
      "50\n"
     ]
    }
   ],
   "source": [
    "\n",
    "      \n",
    "        print(\"Datos de entrada\")\n",
    "        numero1= int(input(\"NumeroA: \"))\n",
    "        numero2= int(input(\"NumeroB: \"))\n",
    "        numero3= int(input(\"NumeroC: \"))\n",
    "\n",
    "        #Hacemos todas las comparaciones posibles entre los 3 números\n",
    "        if numero1 > numero2:\n",
    "            if numero2>numero3:\n",
    "                print(\"Datos de salida\\n\")\n",
    "                print(numero3)\n",
    "                print(numero2)\n",
    "                print(numero1)\n",
    "            elif numero1>numero3:\n",
    "                print(numero2)\n",
    "                print(numero3)\n",
    "                print(numero1)\n",
    "            else:\n",
    "                print(numero2)\n",
    "                print(numero1)\n",
    "                print(numero3)\n",
    "        else:\n",
    "            if numero1>numero3:\n",
    "                print(numero1)\n",
    "                print(numero2)\n",
    "                \n",
    "\n",
    "            elif numero2>numero3:\n",
    "                print(numero1)  \n",
    "                print(numero3)\n",
    "                print(numero2)\n",
    "            else:\n",
    "                print(numero1)\n",
    "                print(numero2)\n",
    "                print(numero3)\n",
    "        exit() "
   ]
  },
  {
   "cell_type": "code",
   "execution_count": null,
   "id": "16bf933d",
   "metadata": {},
   "outputs": [],
   "source": []
  }
 ],
 "metadata": {
  "kernelspec": {
   "display_name": "Python 3 (ipykernel)",
   "language": "python",
   "name": "python3"
  },
  "language_info": {
   "codemirror_mode": {
    "name": "ipython",
    "version": 3
   },
   "file_extension": ".py",
   "mimetype": "text/x-python",
   "name": "python",
   "nbconvert_exporter": "python",
   "pygments_lexer": "ipython3",
   "version": "3.9.12"
  }
 },
 "nbformat": 4,
 "nbformat_minor": 5
}

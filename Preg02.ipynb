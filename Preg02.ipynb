{
 "cells": [
  {
   "cell_type": "code",
   "execution_count": 14,
   "id": "6299f9e2",
   "metadata": {},
   "outputs": [
    {
     "name": "stdout",
     "output_type": "stream",
     "text": [
      "NumeroA: 50\n",
      "NumeroB: 20\n",
      "NumeroC: 35\n",
      "20\n",
      "35\n",
      "50\n"
     ]
    }
   ],
   "source": [
    "        numeroA= int(input(\"NumeroA: \"))\n",
    "        numeroB= int(input(\"NumeroB: \"))\n",
    "        numeroC= int(input(\"NumeroC: \"))\n",
    "\n",
    "        #Hacemos todas las comparaciones posibles entre los 3 números\n",
    "        if numeroA > numeroB:\n",
    "            if numeroB>numeroC:\n",
    "                print(numeroC)\n",
    "                print(numeroB)\n",
    "                print(numeroA)\n",
    "            elif numeroA>numeroC:\n",
    "                print(numeroB)\n",
    "                print(numeroC)\n",
    "                print(numeroA)\n",
    "            else:\n",
    "                print(numeroB)    \n",
    "                print(numeroA)\n",
    "                print(numeroC)\n",
    "        else:\n",
    "            if numeroA>numeroC:\n",
    "                print(numeroC)\n",
    "                print(numeroA)\n",
    "                print(numeroB)\n",
    "\n",
    "            elif numeroB>numeroC:\n",
    "                print(numeroA)   \n",
    "                print(numeroC)\n",
    "                print(numeroB)\n",
    "            else:\n",
    "                print(numeroA)\n",
    "                print(numeroB)\n",
    "                print(numeroC)\n",
    "             \n",
    "        exit()      "
   ]
  },
  {
   "cell_type": "code",
   "execution_count": 1,
   "id": "b37dde06",
   "metadata": {},
   "outputs": [
    {
     "name": "stdout",
     "output_type": "stream",
     "text": [
      "NumeroA: 20\n",
      "NumeroB: 20\n",
      "NumeroC: 80\n",
      "20\n",
      "20\n",
      "80\n"
     ]
    }
   ],
   "source": [
    "        numeroA= int(input(\"NumeroA: \"))\n",
    "        numeroB= int(input(\"NumeroB: \"))\n",
    "        numeroC= int(input(\"NumeroC: \"))\n",
    "\n",
    "        #Hacemos todas las comparaciones posibles entre los 3 números\n",
    "        if numeroA > numeroB:\n",
    "            if numeroB>numeroC:\n",
    "                print(numeroC)\n",
    "                print(numeroB)\n",
    "                print(numeroA)\n",
    "            elif numeroA>numeroC:\n",
    "                print(numeroB)\n",
    "                print(numeroC)\n",
    "                print(numeroA)\n",
    "            else:\n",
    "                print(numeroB)    \n",
    "                print(numeroA)\n",
    "                print(numeroC)\n",
    "        else:\n",
    "            if numeroA>numeroC:\n",
    "                print(numeroC)\n",
    "                print(numeroA)\n",
    "                print(numeroB)\n",
    "\n",
    "            elif numeroB>numeroC:\n",
    "                print(numeroA)   \n",
    "                print(numeroC)\n",
    "                print(numeroB)\n",
    "            else:\n",
    "                print(numeroA)\n",
    "                print(numeroB)\n",
    "                print(numeroC)\n",
    "             \n",
    "        exit()     "
   ]
  },
  {
   "cell_type": "code",
   "execution_count": 1,
   "id": "18790faf",
   "metadata": {},
   "outputs": [
    {
     "name": "stdout",
     "output_type": "stream",
     "text": [
      "NumeroA: 25\n",
      "NumeroB: 50\n",
      "NumeroC: 50\n",
      "25\n",
      "50\n",
      "50\n"
     ]
    }
   ],
   "source": [
    "        numeroA= int(input(\"NumeroA: \"))\n",
    "        numeroB= int(input(\"NumeroB: \"))\n",
    "        numeroC= int(input(\"NumeroC: \"))\n",
    "\n",
    "        #Hacemos todas las comparaciones posibles entre los 3 números\n",
    "        if numeroA > numeroB:\n",
    "            if numeroB>numeroC:\n",
    "                print(numeroC)\n",
    "                print(numeroB)\n",
    "                print(numeroA)\n",
    "            elif numeroA>numeroC:\n",
    "                print(numeroB)\n",
    "                print(numeroC)\n",
    "                print(numeroA)\n",
    "            else:\n",
    "                print(numeroB)    \n",
    "                print(numeroA)\n",
    "                print(numeroC)\n",
    "        else:\n",
    "            if numeroA>numeroC:\n",
    "                print(numeroC)\n",
    "                print(numeroA)\n",
    "                print(numeroB)\n",
    "\n",
    "            elif numeroB>numeroC:\n",
    "                print(numeroA)   \n",
    "                print(numeroC)\n",
    "                print(numeroB)\n",
    "            else:\n",
    "                print(numeroA)\n",
    "                print(numeroB)\n",
    "                print(numeroC)\n",
    "             \n",
    "        exit()     "
   ]
  },
  {
   "cell_type": "code",
   "execution_count": null,
   "id": "4ce98c52",
   "metadata": {},
   "outputs": [],
   "source": []
  }
 ],
 "metadata": {
  "kernelspec": {
   "display_name": "Python 3 (ipykernel)",
   "language": "python",
   "name": "python3"
  },
  "language_info": {
   "codemirror_mode": {
    "name": "ipython",
    "version": 3
   },
   "file_extension": ".py",
   "mimetype": "text/x-python",
   "name": "python",
   "nbconvert_exporter": "python",
   "pygments_lexer": "ipython3",
   "version": "3.9.12"
  }
 },
 "nbformat": 4,
 "nbformat_minor": 5
}

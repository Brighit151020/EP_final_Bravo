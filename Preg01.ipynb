{
 "cells": [
  {
   "cell_type": "markdown",
   "id": "154b4653",
   "metadata": {},
   "source": [
    "# Preg01"
   ]
  },
  {
   "cell_type": "code",
   "execution_count": 1,
   "id": "a63aa109",
   "metadata": {},
   "outputs": [
    {
     "name": "stdout",
     "output_type": "stream",
     "text": [
      "Horas:\n",
      "2\n",
      "Importe a pagar = S/.  6\n"
     ]
    }
   ],
   "source": [
    "print(\"Horas:\")\n",
    "horas = int(input())\n",
    "\n",
    "if  horas <= 4:\n",
    "    print(\"Importe a pagar = S/. \" , 6)\n",
    "if horas > 4:\n",
    "    print(\"Importe a pagar = S/. \" , 6 + (horas-4)*2)"
   ]
  },
  {
   "cell_type": "code",
   "execution_count": 2,
   "id": "0ff8ef1e",
   "metadata": {},
   "outputs": [
    {
     "name": "stdout",
     "output_type": "stream",
     "text": [
      "Horas:\n",
      "8\n",
      "Importe a pagar = S/.  14\n"
     ]
    }
   ],
   "source": [
    "print(\"Horas:\")\n",
    "horas = int(input())\n",
    "\n",
    "if  horas <= 4:\n",
    "    print(\"Importe a pagar = S/. \" , 6)\n",
    "if horas > 4:\n",
    "    print(\"Importe a pagar = S/. \" , 6 + (horas-4)*2)"
   ]
  },
  {
   "cell_type": "code",
   "execution_count": null,
   "id": "376c3936",
   "metadata": {},
   "outputs": [],
   "source": []
  }
 ],
 "metadata": {
  "kernelspec": {
   "display_name": "Python 3 (ipykernel)",
   "language": "python",
   "name": "python3"
  },
  "language_info": {
   "codemirror_mode": {
    "name": "ipython",
    "version": 3
   },
   "file_extension": ".py",
   "mimetype": "text/x-python",
   "name": "python",
   "nbconvert_exporter": "python",
   "pygments_lexer": "ipython3",
   "version": "3.9.12"
  }
 },
 "nbformat": 4,
 "nbformat_minor": 5
}
